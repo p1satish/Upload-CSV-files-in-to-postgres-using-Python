{
 "cells": [
  {
   "cell_type": "markdown",
   "id": "cd8e97ad",
   "metadata": {},
   "source": [
    "# Upload CSV files in to postgres using Python."
   ]
  },
  {
   "cell_type": "code",
   "execution_count": 1,
   "id": "3c8422e9",
   "metadata": {},
   "outputs": [
    {
     "name": "stdout",
     "output_type": "stream",
     "text": [
      "Requirement already satisfied: pyarrow in c:\\users\\pavan\\anaconda3\\lib\\site-packages (9.0.0)\n",
      "Requirement already satisfied: numpy>=1.16.6 in c:\\users\\pavan\\anaconda3\\lib\\site-packages (from pyarrow) (1.20.1)\n"
     ]
    }
   ],
   "source": [
    "!pip install pyarrow"
   ]
  },
  {
   "cell_type": "code",
   "execution_count": 3,
   "id": "b90f6342",
   "metadata": {},
   "outputs": [
    {
     "name": "stdout",
     "output_type": "stream",
     "text": [
      "Requirement already satisfied: fastparquet in c:\\users\\pavan\\anaconda3\\lib\\site-packages (0.8.3)\n",
      "Requirement already satisfied: pandas>=1.1.0 in c:\\users\\pavan\\anaconda3\\lib\\site-packages (from fastparquet) (1.2.4)\n",
      "Requirement already satisfied: packaging in c:\\users\\pavan\\anaconda3\\lib\\site-packages (from fastparquet) (20.9)\n",
      "Requirement already satisfied: fsspec in c:\\users\\pavan\\anaconda3\\lib\\site-packages (from fastparquet) (0.9.0)\n",
      "Requirement already satisfied: cramjam>=2.3.0 in c:\\users\\pavan\\anaconda3\\lib\\site-packages (from fastparquet) (2.5.0)\n",
      "Requirement already satisfied: numpy>=1.18 in c:\\users\\pavan\\anaconda3\\lib\\site-packages (from fastparquet) (1.20.1)\n",
      "Requirement already satisfied: python-dateutil>=2.7.3 in c:\\users\\pavan\\anaconda3\\lib\\site-packages (from pandas>=1.1.0->fastparquet) (2.8.1)\n",
      "Requirement already satisfied: pytz>=2017.3 in c:\\users\\pavan\\anaconda3\\lib\\site-packages (from pandas>=1.1.0->fastparquet) (2021.1)\n",
      "Requirement already satisfied: six>=1.5 in c:\\users\\pavan\\anaconda3\\lib\\site-packages (from python-dateutil>=2.7.3->pandas>=1.1.0->fastparquet) (1.15.0)\n",
      "Requirement already satisfied: pyparsing>=2.0.2 in c:\\users\\pavan\\anaconda3\\lib\\site-packages (from packaging->fastparquet) (2.4.7)\n"
     ]
    }
   ],
   "source": [
    "!pip install fastparquet"
   ]
  },
  {
   "cell_type": "code",
   "execution_count": 4,
   "id": "f75b79a1",
   "metadata": {},
   "outputs": [],
   "source": [
    "import psycopg2\n",
    "import pandas as pd"
   ]
  },
  {
   "cell_type": "code",
   "execution_count": 76,
   "id": "d82a1c7b",
   "metadata": {},
   "outputs": [],
   "source": [
    "def create_database():\n",
    "    # The below syntax is used for connecting to database present in the sql server.\n",
    "    conn=psycopg2.connect(host='localhost', user='postgres',dbname='postgres', password='password')\n",
    "    conn.set_session(autocommit=True)\n",
    "    # creating cursor used to apply quries on database\n",
    "    cur=conn.cursor()\n",
    "    \n",
    "    \n",
    "    #create sparkify database with UTF encoding\n",
    "    cur.execute(\"drop database sales_revenue\")\n",
    "    cur.execute(\"create database sales_revenue\")\n",
    "    \n",
    "    #close connection to default database\n",
    "    conn.close()\n",
    "    \n",
    "    # connect to the sparkify database\n",
    "    conn=psycopg2.connect(host='localhost', user='postgres',dbname='sales_revenue', password='password')\n",
    "    cur=conn.cursor()\n",
    "    \n",
    "    return cur,conn\n",
    "    "
   ]
  },
  {
   "cell_type": "code",
   "execution_count": 77,
   "id": "21fdc861",
   "metadata": {},
   "outputs": [],
   "source": [
    "def drop_table(conn,curr):\n",
    "    for query in drop_table_quries:\n",
    "        curr.execute(query)\n",
    "        conn.commit()"
   ]
  },
  {
   "cell_type": "code",
   "execution_count": 78,
   "id": "a2205d8f",
   "metadata": {},
   "outputs": [],
   "source": [
    "def create_table(conn,curr):\n",
    "    for query in create_table_quries:\n",
    "        curr.execute(query)\n",
    "        conn.commit()"
   ]
  },
  {
   "cell_type": "markdown",
   "id": "28afe38b",
   "metadata": {},
   "source": [
    "# There are mainly three csv files avaialble in this jupyter notebook.\n",
    "\n",
    "1) sales form different states\n",
    "\n",
    "2) revenue from different states\n",
    "\n",
    "3) states with region codes"
   ]
  },
  {
   "cell_type": "code",
   "execution_count": 79,
   "id": "8002c434",
   "metadata": {},
   "outputs": [],
   "source": [
    "sales=pd.read_csv(\"Sales_revenue_region/Sales.csv\")"
   ]
  },
  {
   "cell_type": "code",
   "execution_count": 80,
   "id": "5c288541",
   "metadata": {},
   "outputs": [
    {
     "data": {
      "text/html": [
       "<div>\n",
       "<style scoped>\n",
       "    .dataframe tbody tr th:only-of-type {\n",
       "        vertical-align: middle;\n",
       "    }\n",
       "\n",
       "    .dataframe tbody tr th {\n",
       "        vertical-align: top;\n",
       "    }\n",
       "\n",
       "    .dataframe thead th {\n",
       "        text-align: right;\n",
       "    }\n",
       "</style>\n",
       "<table border=\"1\" class=\"dataframe\">\n",
       "  <thead>\n",
       "    <tr style=\"text-align: right;\">\n",
       "      <th></th>\n",
       "      <th>Date</th>\n",
       "      <th>State Id</th>\n",
       "      <th>Region</th>\n",
       "      <th>Type</th>\n",
       "      <th>Sales</th>\n",
       "      <th>Queue</th>\n",
       "    </tr>\n",
       "  </thead>\n",
       "  <tbody>\n",
       "    <tr>\n",
       "      <th>0</th>\n",
       "      <td>1/1/2019</td>\n",
       "      <td>1</td>\n",
       "      <td>Central</td>\n",
       "      <td>Residential</td>\n",
       "      <td>20.0</td>\n",
       "      <td>Store</td>\n",
       "    </tr>\n",
       "    <tr>\n",
       "      <th>1</th>\n",
       "      <td>1/2/2019</td>\n",
       "      <td>1</td>\n",
       "      <td>Central</td>\n",
       "      <td>Residential</td>\n",
       "      <td>342.0</td>\n",
       "      <td>Store</td>\n",
       "    </tr>\n",
       "    <tr>\n",
       "      <th>2</th>\n",
       "      <td>1/3/2019</td>\n",
       "      <td>1</td>\n",
       "      <td>Central</td>\n",
       "      <td>Residential</td>\n",
       "      <td>187.0</td>\n",
       "      <td>Store</td>\n",
       "    </tr>\n",
       "    <tr>\n",
       "      <th>3</th>\n",
       "      <td>1/4/2019</td>\n",
       "      <td>1</td>\n",
       "      <td>Central</td>\n",
       "      <td>Residential</td>\n",
       "      <td>215.0</td>\n",
       "      <td>Store</td>\n",
       "    </tr>\n",
       "    <tr>\n",
       "      <th>4</th>\n",
       "      <td>1/5/2019</td>\n",
       "      <td>1</td>\n",
       "      <td>Central</td>\n",
       "      <td>Residential</td>\n",
       "      <td>46.0</td>\n",
       "      <td>Store</td>\n",
       "    </tr>\n",
       "  </tbody>\n",
       "</table>\n",
       "</div>"
      ],
      "text/plain": [
       "       Date  State Id   Region         Type  Sales  Queue\n",
       "0  1/1/2019         1  Central  Residential   20.0  Store\n",
       "1  1/2/2019         1  Central  Residential  342.0  Store\n",
       "2  1/3/2019         1  Central  Residential  187.0  Store\n",
       "3  1/4/2019         1  Central  Residential  215.0  Store\n",
       "4  1/5/2019         1  Central  Residential   46.0  Store"
      ]
     },
     "execution_count": 80,
     "metadata": {},
     "output_type": "execute_result"
    }
   ],
   "source": [
    "sales.head()"
   ]
  },
  {
   "cell_type": "code",
   "execution_count": 81,
   "id": "4f3f5a04",
   "metadata": {},
   "outputs": [],
   "source": [
    "revenue=pd.read_csv(\"Sales_revenue_region/revenue.csv\")"
   ]
  },
  {
   "cell_type": "code",
   "execution_count": 82,
   "id": "4075717d",
   "metadata": {},
   "outputs": [
    {
     "data": {
      "text/html": [
       "<div>\n",
       "<style scoped>\n",
       "    .dataframe tbody tr th:only-of-type {\n",
       "        vertical-align: middle;\n",
       "    }\n",
       "\n",
       "    .dataframe tbody tr th {\n",
       "        vertical-align: top;\n",
       "    }\n",
       "\n",
       "    .dataframe thead th {\n",
       "        text-align: right;\n",
       "    }\n",
       "</style>\n",
       "<table border=\"1\" class=\"dataframe\">\n",
       "  <thead>\n",
       "    <tr style=\"text-align: right;\">\n",
       "      <th></th>\n",
       "      <th>Date</th>\n",
       "      <th>State Id</th>\n",
       "      <th>Region</th>\n",
       "      <th>Type</th>\n",
       "      <th>Revenue</th>\n",
       "      <th>Queue</th>\n",
       "    </tr>\n",
       "  </thead>\n",
       "  <tbody>\n",
       "    <tr>\n",
       "      <th>0</th>\n",
       "      <td>1/1/2019</td>\n",
       "      <td>1</td>\n",
       "      <td>Central</td>\n",
       "      <td>Residential</td>\n",
       "      <td>10056.0</td>\n",
       "      <td>Store</td>\n",
       "    </tr>\n",
       "    <tr>\n",
       "      <th>1</th>\n",
       "      <td>1/2/2019</td>\n",
       "      <td>1</td>\n",
       "      <td>Central</td>\n",
       "      <td>Residential</td>\n",
       "      <td>5263.0</td>\n",
       "      <td>Store</td>\n",
       "    </tr>\n",
       "    <tr>\n",
       "      <th>2</th>\n",
       "      <td>1/3/2019</td>\n",
       "      <td>1</td>\n",
       "      <td>Central</td>\n",
       "      <td>Residential</td>\n",
       "      <td>216.0</td>\n",
       "      <td>Store</td>\n",
       "    </tr>\n",
       "    <tr>\n",
       "      <th>3</th>\n",
       "      <td>1/4/2019</td>\n",
       "      <td>1</td>\n",
       "      <td>Central</td>\n",
       "      <td>Residential</td>\n",
       "      <td>0.0</td>\n",
       "      <td>Store</td>\n",
       "    </tr>\n",
       "    <tr>\n",
       "      <th>4</th>\n",
       "      <td>1/5/2019</td>\n",
       "      <td>1</td>\n",
       "      <td>Central</td>\n",
       "      <td>Residential</td>\n",
       "      <td>23037.0</td>\n",
       "      <td>Store</td>\n",
       "    </tr>\n",
       "  </tbody>\n",
       "</table>\n",
       "</div>"
      ],
      "text/plain": [
       "       Date  State Id   Region         Type  Revenue  Queue\n",
       "0  1/1/2019         1  Central  Residential  10056.0  Store\n",
       "1  1/2/2019         1  Central  Residential   5263.0  Store\n",
       "2  1/3/2019         1  Central  Residential    216.0  Store\n",
       "3  1/4/2019         1  Central  Residential      0.0  Store\n",
       "4  1/5/2019         1  Central  Residential  23037.0  Store"
      ]
     },
     "execution_count": 82,
     "metadata": {},
     "output_type": "execute_result"
    }
   ],
   "source": [
    "revenue.head()"
   ]
  },
  {
   "cell_type": "code",
   "execution_count": 83,
   "id": "dfdb359c",
   "metadata": {},
   "outputs": [],
   "source": [
    "state_code=pd.read_csv(\"Sales_revenue_region/Region_state_code.csv\")"
   ]
  },
  {
   "cell_type": "code",
   "execution_count": 84,
   "id": "964d0f46",
   "metadata": {},
   "outputs": [
    {
     "data": {
      "text/html": [
       "<div>\n",
       "<style scoped>\n",
       "    .dataframe tbody tr th:only-of-type {\n",
       "        vertical-align: middle;\n",
       "    }\n",
       "\n",
       "    .dataframe tbody tr th {\n",
       "        vertical-align: top;\n",
       "    }\n",
       "\n",
       "    .dataframe thead th {\n",
       "        text-align: right;\n",
       "    }\n",
       "</style>\n",
       "<table border=\"1\" class=\"dataframe\">\n",
       "  <thead>\n",
       "    <tr style=\"text-align: right;\">\n",
       "      <th></th>\n",
       "      <th>Region</th>\n",
       "      <th>State</th>\n",
       "      <th>State Id</th>\n",
       "    </tr>\n",
       "  </thead>\n",
       "  <tbody>\n",
       "    <tr>\n",
       "      <th>0</th>\n",
       "      <td>Central</td>\n",
       "      <td>Jharkhand</td>\n",
       "      <td>1</td>\n",
       "    </tr>\n",
       "    <tr>\n",
       "      <th>1</th>\n",
       "      <td>Central</td>\n",
       "      <td>Odisha</td>\n",
       "      <td>2</td>\n",
       "    </tr>\n",
       "    <tr>\n",
       "      <th>2</th>\n",
       "      <td>Central</td>\n",
       "      <td>Uttar Pradesh</td>\n",
       "      <td>3</td>\n",
       "    </tr>\n",
       "    <tr>\n",
       "      <th>3</th>\n",
       "      <td>West</td>\n",
       "      <td>Goa</td>\n",
       "      <td>4</td>\n",
       "    </tr>\n",
       "    <tr>\n",
       "      <th>4</th>\n",
       "      <td>West</td>\n",
       "      <td>Gujarat</td>\n",
       "      <td>5</td>\n",
       "    </tr>\n",
       "  </tbody>\n",
       "</table>\n",
       "</div>"
      ],
      "text/plain": [
       "    Region          State  State Id\n",
       "0  Central      Jharkhand         1\n",
       "1  Central         Odisha         2\n",
       "2  Central  Uttar Pradesh         3\n",
       "3     West            Goa         4\n",
       "4     West        Gujarat         5"
      ]
     },
     "execution_count": 84,
     "metadata": {},
     "output_type": "execute_result"
    }
   ],
   "source": [
    "state_code.head()"
   ]
  },
  {
   "cell_type": "markdown",
   "id": "250d8ef4",
   "metadata": {},
   "source": [
    ">Here state id is giving details about region,so we can delete that column in sales and revenue files.\n"
   ]
  },
  {
   "cell_type": "code",
   "execution_count": 85,
   "id": "b232d5da",
   "metadata": {},
   "outputs": [],
   "source": [
    "sales=sales.drop('Region',axis=1)\n",
    "revenue=revenue.drop('Region',axis=1)"
   ]
  },
  {
   "cell_type": "markdown",
   "id": "c271be14",
   "metadata": {},
   "source": [
    "# Create a datamodel using psql.\n",
    "\n",
    "Idea is to create datamodel in sql database and `not a simple bussiness model."
   ]
  },
  {
   "cell_type": "code",
   "execution_count": 86,
   "id": "f11e1bd0",
   "metadata": {},
   "outputs": [],
   "source": [
    "cur,conn=create_database()"
   ]
  },
  {
   "cell_type": "markdown",
   "id": "6994d0e7",
   "metadata": {},
   "source": [
    "Creating a sales table in RDBMS!"
   ]
  },
  {
   "cell_type": "code",
   "execution_count": 87,
   "id": "642db2bf",
   "metadata": {},
   "outputs": [
    {
     "name": "stdout",
     "output_type": "stream",
     "text": [
      "<class 'pandas.core.frame.DataFrame'>\n",
      "RangeIndex: 30384 entries, 0 to 30383\n",
      "Data columns (total 5 columns):\n",
      " #   Column    Non-Null Count  Dtype  \n",
      "---  ------    --------------  -----  \n",
      " 0   Date      30384 non-null  object \n",
      " 1   State Id  30384 non-null  int64  \n",
      " 2   Type      30384 non-null  object \n",
      " 3   Sales     30054 non-null  float64\n",
      " 4   Queue     30384 non-null  object \n",
      "dtypes: float64(1), int64(1), object(3)\n",
      "memory usage: 1.2+ MB\n"
     ]
    }
   ],
   "source": [
    "sales.info()"
   ]
  },
  {
   "cell_type": "code",
   "execution_count": 88,
   "id": "493aac46",
   "metadata": {},
   "outputs": [],
   "source": [
    "sales_table=(\"\"\"create table if not exists sales_table(Date varchar,\n",
    "State_Id int ,\n",
    "Type varchar,\n",
    "Sales float,\n",
    "Queue varchar)\"\"\")"
   ]
  },
  {
   "cell_type": "code",
   "execution_count": 89,
   "id": "f35397a3",
   "metadata": {},
   "outputs": [],
   "source": [
    "cur.execute(sales_table)\n",
    "conn.commit()"
   ]
  },
  {
   "cell_type": "markdown",
   "id": "1d7f33b8",
   "metadata": {},
   "source": [
    "Creating a revenue table in RDBMS!"
   ]
  },
  {
   "cell_type": "code",
   "execution_count": 90,
   "id": "32ef283a",
   "metadata": {},
   "outputs": [
    {
     "name": "stdout",
     "output_type": "stream",
     "text": [
      "<class 'pandas.core.frame.DataFrame'>\n",
      "RangeIndex: 30384 entries, 0 to 30383\n",
      "Data columns (total 5 columns):\n",
      " #   Column    Non-Null Count  Dtype  \n",
      "---  ------    --------------  -----  \n",
      " 0   Date      30384 non-null  object \n",
      " 1   State Id  30384 non-null  int64  \n",
      " 2   Type      30384 non-null  object \n",
      " 3   Revenue   30384 non-null  float64\n",
      " 4   Queue     30384 non-null  object \n",
      "dtypes: float64(1), int64(1), object(3)\n",
      "memory usage: 1.2+ MB\n"
     ]
    }
   ],
   "source": [
    "revenue.info()"
   ]
  },
  {
   "cell_type": "code",
   "execution_count": 91,
   "id": "f6eacd14",
   "metadata": {},
   "outputs": [],
   "source": [
    "revenue_table=(\"\"\"create table if not exists revenue_table(Date varchar,\n",
    "State_Id int ,\n",
    "Type varchar,\n",
    "revenue float,\n",
    "Queue varchar)\"\"\")\n"
   ]
  },
  {
   "cell_type": "code",
   "execution_count": 92,
   "id": "e4204d0a",
   "metadata": {},
   "outputs": [],
   "source": [
    "cur.execute(revenue_table)\n",
    "conn.commit()"
   ]
  },
  {
   "cell_type": "markdown",
   "id": "87f4acc7",
   "metadata": {},
   "source": [
    "Creating a state_code table in RDBMS!"
   ]
  },
  {
   "cell_type": "code",
   "execution_count": 58,
   "id": "e32da707",
   "metadata": {},
   "outputs": [
    {
     "name": "stdout",
     "output_type": "stream",
     "text": [
      "<class 'pandas.core.frame.DataFrame'>\n",
      "RangeIndex: 12 entries, 0 to 11\n",
      "Data columns (total 3 columns):\n",
      " #   Column    Non-Null Count  Dtype \n",
      "---  ------    --------------  ----- \n",
      " 0   Region    12 non-null     object\n",
      " 1   State     12 non-null     object\n",
      " 2   State Id  12 non-null     int64 \n",
      "dtypes: int64(1), object(2)\n",
      "memory usage: 416.0+ bytes\n"
     ]
    }
   ],
   "source": [
    "state_code.info()"
   ]
  },
  {
   "cell_type": "code",
   "execution_count": 93,
   "id": "53173153",
   "metadata": {},
   "outputs": [],
   "source": [
    "state_codes=(\"\"\"create table if not exists state_codes(Region varchar,\n",
    "State varchar,\n",
    "State_Id int primary key)\"\"\")"
   ]
  },
  {
   "cell_type": "code",
   "execution_count": 94,
   "id": "e9fd12dc",
   "metadata": {},
   "outputs": [],
   "source": [
    "cur.execute(state_codes)"
   ]
  },
  {
   "cell_type": "code",
   "execution_count": 95,
   "id": "d8825bbe",
   "metadata": {},
   "outputs": [],
   "source": [
    "conn.commit()"
   ]
  },
  {
   "cell_type": "markdown",
   "id": "33a66ffa",
   "metadata": {},
   "source": [
    "Insert data into the above created tables! \n",
    "\n",
    "The data is available in the csv files, the one avaialbe in python notebook!"
   ]
  },
  {
   "cell_type": "code",
   "execution_count": 96,
   "id": "005e4b2c",
   "metadata": {},
   "outputs": [],
   "source": [
    "sales_insert=(\"\"\"insert into sales_table(\n",
    "Date,\n",
    "State_Id,\n",
    "Type,\n",
    "Sales,\n",
    "Queue) values(%s,%s,%s,%s,%s)\"\"\")"
   ]
  },
  {
   "cell_type": "code",
   "execution_count": 97,
   "id": "b1ecd190",
   "metadata": {},
   "outputs": [],
   "source": [
    "for i,row in sales.iterrows():\n",
    "    cur.execute(sales_insert,list(row))"
   ]
  },
  {
   "cell_type": "code",
   "execution_count": 98,
   "id": "2c8e9b43",
   "metadata": {},
   "outputs": [],
   "source": [
    "revenue_insert=(\"\"\"insert into revenue_table(\n",
    "Date,\n",
    "State_Id ,\n",
    "Type ,\n",
    "revenue ,\n",
    "Queue ) values(%s,%s,%s,%s,%s)\"\"\")"
   ]
  },
  {
   "cell_type": "code",
   "execution_count": 99,
   "id": "f6c71f5c",
   "metadata": {},
   "outputs": [],
   "source": [
    "for i,row in revenue.iterrows():\n",
    "    cur.execute(revenue_insert,list(row))"
   ]
  },
  {
   "cell_type": "code",
   "execution_count": 100,
   "id": "b71ac944",
   "metadata": {},
   "outputs": [],
   "source": [
    "state_codes_insert=(\"\"\"insert into state_codes(\n",
    "Region ,\n",
    "State ,\n",
    "State_Id  ) values(%s,%s,%s)\"\"\")"
   ]
  },
  {
   "cell_type": "code",
   "execution_count": 103,
   "id": "e9e6d58c",
   "metadata": {},
   "outputs": [],
   "source": [
    "for i,row in state_code.iterrows():\n",
    "    cur.execute(state_codes_insert,list(row))"
   ]
  },
  {
   "cell_type": "code",
   "execution_count": 104,
   "id": "832c5904",
   "metadata": {},
   "outputs": [],
   "source": [
    "cur.close()\n",
    "conn.close()"
   ]
  }
 ],
 "metadata": {
  "kernelspec": {
   "display_name": "Python 3",
   "language": "python",
   "name": "python3"
  },
  "language_info": {
   "codemirror_mode": {
    "name": "ipython",
    "version": 3
   },
   "file_extension": ".py",
   "mimetype": "text/x-python",
   "name": "python",
   "nbconvert_exporter": "python",
   "pygments_lexer": "ipython3",
   "version": "3.8.8"
  }
 },
 "nbformat": 4,
 "nbformat_minor": 5
}
